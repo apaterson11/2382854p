{
 "cells": [
  {
   "cell_type": "code",
   "execution_count": 7,
   "metadata": {},
   "outputs": [
    {
     "name": "stdout",
     "output_type": "stream",
     "text": [
      "Everything imported OK\n"
     ]
    }
   ],
   "source": [
    "# Standard imports\n",
    "# Make sure you run this cell!\n",
    "from __future__ import print_function, division\n",
    "import numpy as np  # NumPy\n",
    "\n",
    "%matplotlib notebook\n",
    "%matplotlib notebook\n",
    "\n",
    "# Set up Matplotlib\n",
    "import matplotlib as mpl   \n",
    "import matplotlib.pyplot as plt\n",
    "print(\"Everything imported OK\")\n"
   ]
  },
  {
   "cell_type": "code",
   "execution_count": 24,
   "metadata": {},
   "outputs": [
    {
     "ename": "FileNotFoundError",
     "evalue": "[Errno 2] No such file or directory: 'bandwidth/datagrams/results.csv'",
     "output_type": "error",
     "traceback": [
      "\u001b[1;31m---------------------------------------------------------------------------\u001b[0m",
      "\u001b[1;31mFileNotFoundError\u001b[0m                         Traceback (most recent call last)",
      "\u001b[1;32m<ipython-input-24-e0682ed0b583>\u001b[0m in \u001b[0;36m<module>\u001b[1;34m()\u001b[0m\n\u001b[0;32m      1\u001b[0m \u001b[1;31m## BEGIN SOLUTION\u001b[0m\u001b[1;33m\u001b[0m\u001b[1;33m\u001b[0m\u001b[0m\n\u001b[0;32m      2\u001b[0m \u001b[1;31m# air = np.loadtxt('cherry_trees.txt')\u001b[0m\u001b[1;33m\u001b[0m\u001b[1;33m\u001b[0m\u001b[0m\n\u001b[1;32m----> 3\u001b[1;33m \u001b[0mdata\u001b[0m \u001b[1;33m=\u001b[0m \u001b[0mnp\u001b[0m\u001b[1;33m.\u001b[0m\u001b[0mloadtxt\u001b[0m\u001b[1;33m(\u001b[0m\u001b[0mopen\u001b[0m\u001b[1;33m(\u001b[0m\u001b[1;34m\"bandwidth/datagrams/results.csv\"\u001b[0m\u001b[1;33m,\u001b[0m \u001b[1;34m\"rb\"\u001b[0m\u001b[1;33m)\u001b[0m\u001b[1;33m,\u001b[0m \u001b[0mdelimiter\u001b[0m\u001b[1;33m=\u001b[0m\u001b[1;34m\",\"\u001b[0m\u001b[1;33m,\u001b[0m \u001b[0mskiprows\u001b[0m\u001b[1;33m=\u001b[0m\u001b[1;36m1\u001b[0m\u001b[1;33m)\u001b[0m\u001b[1;33m\u001b[0m\u001b[0m\n\u001b[0m\u001b[0;32m      4\u001b[0m \u001b[1;31m# print(data[:,1])\u001b[0m\u001b[1;33m\u001b[0m\u001b[1;33m\u001b[0m\u001b[0m\n\u001b[0;32m      5\u001b[0m \u001b[0mfig\u001b[0m \u001b[1;33m=\u001b[0m \u001b[0mplt\u001b[0m\u001b[1;33m.\u001b[0m\u001b[0mfigure\u001b[0m\u001b[1;33m(\u001b[0m\u001b[1;33m)\u001b[0m\u001b[1;33m\u001b[0m\u001b[0m\n",
      "\u001b[1;31mFileNotFoundError\u001b[0m: [Errno 2] No such file or directory: 'bandwidth/datagrams/results.csv'"
     ]
    }
   ],
   "source": [
    "## BEGIN SOLUTION\n",
    "# air = np.loadtxt('cherry_trees.txt')\n",
    "data = np.loadtxt(open(\"/bandwidth/datagrams/results.csv\", \"rb\"), delimiter=\",\", skiprows=1)\n",
    "# print(data[:,1])\n",
    "fig = plt.figure()\n",
    "ax = fig.add_subplot(1,1,1)\n",
    "\n",
    "ax.plot(data[:,0], data[:,2])\n",
    "ax.plot(data[:,0], data[:,3])\n",
    "# ax.plot(air[:,0], air[:,1])\n",
    "ax.set_title(\"Datagrams - Adjusted Bandwidth\")\n",
    "ax.set_xlabel(\"Bandwidth (Mbits)\")\n",
    "ax.set_ylabel(\"Latency (seconds)\")\n",
    "ax.set_frame_on(False)\n",
    "#\n",
    "#########################\n",
    "\n",
    "# ## Alternative, trickier plot\n",
    "# ## No need to go this far\n",
    "# air = np.loadtxt('data/air_passengers.txt')\n",
    "# fig = plt.figure()\n",
    "# ax = fig.add_subplot(1,1,1)\n",
    "# air_2 = air.reshape(air.shape[0]//12, -1, 2)\n",
    "\n",
    "# viridis = plt.get_cmap(\"viridis\")\n",
    "# for i in list(range(air_2.shape[0]))[::-1]:\n",
    "#     ax.plot((air_2[i,:,0]-np.floor(air_2[i,:,0]))*12, \n",
    "#             air_2[i,:,1], c=viridis(i/12.0))\n",
    "# ax.set_xticks(np.arange(12))\n",
    "# ax.set_xticklabels([\"Jan\", \"Feb\", \"Mar\", \"Apr\", \"May\", \"Jun\",\n",
    "#                    \"Jul\",\"Aug\",\"Sep\", \"Oct\", \"Nov\", \"Dec\"])\n",
    "\n",
    "# # hideous Matplotlib hacking to set\n",
    "# # a custom coloubar\n",
    "# import matplotlib as mpl    \n",
    "# norm = mpl.colors.Normalize(vmin=0,vmax=11)\n",
    "# sm = plt.cm.ScalarMappable(cmap=viridis, norm=norm)\n",
    "# sm.set_array([])\n",
    "# fig.colorbar(sm)\n",
    "\n",
    "# ax.set_title(\"Datagrams - Adjusted Bandwidth\")\n",
    "# ax.set_xlabel(\"Bandwidth (Mbits)\")\n",
    "# ax.set_ylabel(\"Latency (seconds)\")\n",
    "# ax.set_frame_on(False)\n",
    "# ### END SOLUTION\n",
    "\n",
    "small_data = np.loadtxt(open(\"/bandwidth/datagrams/small_results.csv\", \"rb\"), delimiter=\",\", skiprows=1)\n",
    "fig = plt.figure()\n",
    "ax = fig.add_subplot(1,1,1)\n",
    "\n",
    "ax.plot(small_data[:,0], small_data[:,2])\n",
    "ax.plot(small_data[:,0], small_data[:,3])\n",
    "# ax.plot(air[:,0], air[:,1])\n",
    "ax.set_title(\"Datagrams - Adjusted Bandwidth (Small Scale)\")\n",
    "ax.set_xlabel(\"Bandwidth (Mbits)\")\n",
    "ax.set_ylabel(\"Latency (seconds)\")\n",
    "ax.set_frame_on(False)\n",
    "\n",
    "\n",
    "# numpy.loadtxt(open(\"test.csv\", \"rb\"), delimiter=\",\", skiprows=1)"
   ]
  },
  {
   "cell_type": "code",
   "execution_count": null,
   "metadata": {},
   "outputs": [],
   "source": []
  },
  {
   "cell_type": "code",
   "execution_count": null,
   "metadata": {},
   "outputs": [],
   "source": []
  }
 ],
 "metadata": {
  "kernelspec": {
   "display_name": "Python 3",
   "language": "python",
   "name": "python3"
  },
  "language_info": {
   "codemirror_mode": {
    "name": "ipython",
    "version": 3
   },
   "file_extension": ".py",
   "mimetype": "text/x-python",
   "name": "python",
   "nbconvert_exporter": "python",
   "pygments_lexer": "ipython3",
   "version": "3.7.0"
  }
 },
 "nbformat": 4,
 "nbformat_minor": 2
}
